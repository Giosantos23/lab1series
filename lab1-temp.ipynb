{
 "cells": [
  {
   "cell_type": "code",
   "execution_count": null,
   "id": "66cb293a",
   "metadata": {},
   "outputs": [],
   "source": [
    "import pandas as pd\n",
    "import matplotlib.pyplot as plt\n",
    "from statsmodels.tsa.holtwinters import ExponentialSmoothing\n",
    "from statsmodels.tsa.stattools import adfuller\n",
    "from statsmodels.tsa.statespace.sarimax import SARIMAX\n",
    "from sklearn.metrics import mean_squared_error, mean_absolute_error\n",
    "import numpy as np\n"
   ]
  },
  {
   "cell_type": "code",
   "execution_count": null,
   "id": "54954aa0",
   "metadata": {},
   "outputs": [],
   "source": [
    "df_temp = pd.read_csv(\"monthly-mean-temp.csv\")\n",
    "df_temp['Month'] = pd.to_datetime(df_temp['Month'])\n",
    "df_temp.set_index('Month', inplace=True)\n",
    "df_temp.head()\n"
   ]
  },
  {
   "cell_type": "code",
   "execution_count": null,
   "id": "7f102bb4",
   "metadata": {},
   "outputs": [],
   "source": [
    "plt.figure(figsize=(14, 6))\n",
    "plt.plot(df_temp.index, df_temp['Temperature'], color='tab:blue', linewidth=1.5)\n",
    "plt.title('Temperatura Media Mensual (1920 - 1939)')\n",
    "plt.xlabel('Fecha')\n",
    "plt.ylabel('Temperatura (°F)')\n",
    "plt.grid(True)\n",
    "plt.tight_layout()\n",
    "plt.show()\n"
   ]
  },
  {
   "cell_type": "code",
   "execution_count": null,
   "id": "9b144dd0",
   "metadata": {},
   "outputs": [],
   "source": [
    "df_temp['SMA_3'] = df_temp['Temperature'].rolling(window=3).mean()\n",
    "df_temp['SMA_12'] = df_temp['Temperature'].rolling(window=12).mean()\n",
    "\n",
    "plt.figure(figsize=(14, 6))\n",
    "plt.plot(df_temp['Temperature'], label='Original', linewidth=1.5)\n",
    "plt.plot(df_temp['SMA_3'], label='Media móvil 3 meses', linestyle='--')\n",
    "plt.plot(df_temp['SMA_12'], label='Media móvil 12 meses', linestyle='--')\n",
    "plt.title('Promedios Móviles - Temperatura Media Mensual')\n",
    "plt.legend()\n",
    "plt.grid(True)\n",
    "plt.tight_layout()\n",
    "plt.show()\n"
   ]
  },
  {
   "cell_type": "code",
   "execution_count": null,
   "id": "73c54e52",
   "metadata": {},
   "outputs": [],
   "source": [
    "df_temp['SES'] = df_temp['Temperature'].ewm(alpha=0.3, adjust=False).mean()\n",
    "\n",
    "plt.figure(figsize=(14, 6))\n",
    "plt.plot(df_temp['Temperature'], label='Original', linewidth=1.5)\n",
    "plt.plot(df_temp['SES'], label='Alisamiento Exponencial Simple (α=0.3)', linestyle='--')\n",
    "plt.title('Alisamiento Exponencial Simple - Temperatura')\n",
    "plt.legend()\n",
    "plt.grid(True)\n",
    "plt.tight_layout()\n",
    "plt.show()\n"
   ]
  },
  {
   "cell_type": "code",
   "execution_count": null,
   "id": "dd7b1b8d",
   "metadata": {},
   "outputs": [],
   "source": [
    "modelo_hw_temp = ExponentialSmoothing(df_temp['Temperature'], trend='add', seasonal='add', seasonal_periods=12).fit()\n",
    "df_temp['HW_add'] = modelo_hw_temp.fittedvalues\n",
    "\n",
    "plt.figure(figsize=(14, 6))\n",
    "plt.plot(df_temp['Temperature'], label='Original', linewidth=1.5)\n",
    "plt.plot(df_temp['HW_add'], label='Holt-Winters Aditivo', linestyle='--')\n",
    "plt.title('Modelo Holt-Winters Aditivo - Temperatura')\n",
    "plt.legend()\n",
    "plt.grid(True)\n",
    "plt.tight_layout()\n",
    "plt.show()\n"
   ]
  },
  {
   "cell_type": "code",
   "execution_count": null,
   "id": "cd75d165",
   "metadata": {},
   "outputs": [],
   "source": [
    "from statsmodels.tsa.stattools import adfuller\n",
    "adf_temp = adfuller(df_temp['Temperature'].dropna())\n",
    "print(\"ADF Statistic:\", adf_temp[0])\n",
    "print(\"p-value:\", adf_temp[1])\n",
    "print(\"Critical Values:\", adf_temp[4])\n"
   ]
  },
  {
   "cell_type": "code",
   "execution_count": null,
   "id": "b1644a17",
   "metadata": {},
   "outputs": [],
   "source": [
    "df_temp['Temp_diff'] = df_temp['Temperature'].diff()\n",
    "adf_temp_diff = adfuller(df_temp['Temp_diff'].dropna())\n",
    "print(\"ADF Statistic (diferenciada):\", adf_temp_diff[0])\n",
    "print(\"p-value:\", adf_temp_diff[1])\n",
    "print(\"Critical Values:\", adf_temp_diff[4])\n"
   ]
  },
  {
   "cell_type": "code",
   "execution_count": null,
   "id": "c2abce33",
   "metadata": {},
   "outputs": [],
   "source": [
    "sarima_temp = SARIMAX(df_temp['Temperature'], order=(1,1,1), seasonal_order=(1,1,1,12)).fit(disp=False)\n",
    "df_temp['SARIMA_pred'] = sarima_temp.fittedvalues\n",
    "\n",
    "plt.figure(figsize=(14, 6))\n",
    "plt.plot(df_temp['Temperature'], label='Original', linewidth=1.5)\n",
    "plt.plot(df_temp['SARIMA_pred'], label='SARIMA (1,1,1)(1,1,1,12)', linestyle='--')\n",
    "plt.title('Modelo SARIMA - Temperatura Media Mensual')\n",
    "plt.legend()\n",
    "plt.grid(True)\n",
    "plt.tight_layout()\n",
    "plt.show()\n"
   ]
  },
  {
   "cell_type": "code",
   "execution_count": null,
   "id": "e291ffcb",
   "metadata": {},
   "outputs": [],
   "source": [
    "original_temp = df_temp['Temperature'].dropna()\n",
    "modelos_temp = {\n",
    "    'SES': df_temp['SES'],\n",
    "    'Holt-Winters': df_temp['HW_add'],\n",
    "    'SARIMA': df_temp['SARIMA_pred']\n",
    "}\n",
    "\n",
    "resultados_temp = []\n",
    "for name, pred in modelos_temp.items():\n",
    "    aligned = original_temp.align(pred, join='inner')\n",
    "    mae = mean_absolute_error(aligned[0], aligned[1])\n",
    "    rmse = mean_squared_error(aligned[0], aligned[1], squared=False)\n",
    "    resultados_temp.append((name, mae, rmse))\n",
    "\n",
    "df_resultados_temp = pd.DataFrame(resultados_temp, columns=['Modelo', 'MAE', 'RMSE'])\n",
    "df_resultados_temp\n"
   ]
  }
 ],
 "metadata": {},
 "nbformat": 4,
 "nbformat_minor": 5
}
